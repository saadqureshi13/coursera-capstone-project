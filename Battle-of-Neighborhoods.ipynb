{
    "nbformat_minor": 1, 
    "cells": [
        {
            "source": "# Introduction/Business Problem\n\n#### Lahore is one of the biggest metroploitan cities in Pakistan. It is vibrant, densly populated and presents a welcoming environment for aspiring entreprenuers. With the advent of the digital age one of the most viable mediums to start a business are proving to be digital platforms. There are hundreds of business in lahore that make use of such platforms but are yet unable to sustain their business because they are unable to reach the intended audience. On the other hand , we also hear about the success stories of start ups taking off and breaking even within their first few months with the help of targeted advertisements on these platforms. In a busy metroplitan like Lahore it is well established that time is money and every week hours of that precious time and fuel are wasted stuck in traffic on the way to do a routine errand like grocery shopping. The aim of this project would be to help online grocery stores target neighbourhoods that have the least number of shopping centers so that not only they save cost on advertisement but have a more effective penetration than a random carpet advertisement. In this project we will assume that our client is a startup that delivers groceries to your doorstep and is looking to increase its service penetration in Lahore while at the same time not overspending on advertisement. We will run a cluster analysis on neoghbourhoods of Lahore and identify with reasoning the neighbourhoods that are expected to be more reactive to the services offered by the startup as compared to others.\n", 
            "cell_type": "markdown", 
            "metadata": {
                "collapsed": true
            }
        }, 
        {
            "execution_count": null, 
            "cell_type": "code", 
            "metadata": {}, 
            "outputs": [], 
            "source": ""
        }
    ], 
    "metadata": {
        "kernelspec": {
            "display_name": "Python 3.5", 
            "name": "python3", 
            "language": "python"
        }, 
        "language_info": {
            "mimetype": "text/x-python", 
            "nbconvert_exporter": "python", 
            "version": "3.5.5", 
            "name": "python", 
            "file_extension": ".py", 
            "pygments_lexer": "ipython3", 
            "codemirror_mode": {
                "version": 3, 
                "name": "ipython"
            }
        }
    }, 
    "nbformat": 4
}