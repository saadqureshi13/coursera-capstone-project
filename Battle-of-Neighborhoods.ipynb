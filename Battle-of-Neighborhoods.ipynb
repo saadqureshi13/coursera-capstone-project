{
    "nbformat_minor": 1, 
    "cells": [
        {
            "source": "# Introduction/Business Problem\n\n#### Lahore is one of the biggest metroploitan cities in Pakistan. It is vibrant, densly populated and presents a welcoming environment for aspiring entreprenuers. With the advent of the digital age one of the most viable mediums to start a business are proving to be digital platforms. There are hundreds of business in lahore that make use of such platforms but are yet unable to sustain their business because they are unable to reach the intended audience. On the other hand , we also hear about the success stories of start ups taking off and breaking even within their first few months with the help of targeted advertisements on these platforms. In a busy metroplitan like Lahore it is well established that time is money and every week hours of that precious time and fuel are wasted stuck in traffic on the way to do a routine errand like grocery shopping. The aim of this project would be to help online grocery stores target neighbourhoods that have the least number of shopping centers so that not only they save cost on advertisement but have a more effective penetration than a random carpet advertisement. In this project we will assume that our client is a startup that delivers groceries to your doorstep and is looking to increase its service penetration in Lahore while at the same time not overspending on advertisement. We will run a cluster analysis on neoghbourhoods of Lahore and identify with reasoning the neighbourhoods that are expected to be more reactive to the services offered by the startup as compared to others.\n", 
            "cell_type": "markdown", 
            "metadata": {
                "collapsed": true
            }
        }, 
        {
            "source": "## Data\n\n#### The data I will be using in this project is in three parts \n#### 1) List of town in Lahore (Source of data :https://en.wikipedia.org/wiki/List_of_towns_in_Lahore)\n##### Example Row", 
            "cell_type": "markdown", 
            "metadata": {}
        }, 
        {
            "execution_count": 1, 
            "cell_type": "code", 
            "metadata": {}, 
            "outputs": [], 
            "source": "from lxml import etree\nimport urllib"
        }, 
        {
            "execution_count": 2, 
            "cell_type": "code", 
            "metadata": {}, 
            "outputs": [], 
            "source": "import requests\nimport pandas as pd\nurl = 'https://en.wikipedia.org/wiki/List_of_towns_in_Lahore'\nhtml = requests.get(url).content\ndf_list = pd.read_html(html)\ndf = df_list[-1]"
        }, 
        {
            "execution_count": 13, 
            "cell_type": "code", 
            "metadata": {}, 
            "outputs": [
                {
                    "execution_count": 13, 
                    "metadata": {}, 
                    "data": {
                        "text/plain": "'Kot Begum (UC 1) Yousaf Bagh (UC 2) Kot Kamboh (UC 3) Shamsabad (UC 4) Chah Cheemay Walay (UC 5) Shahrak-e-Aziz (UC 6) Lajpat Nagar (UC 7) Faisal Bagh (UC 8) Javed Bagh (UC 9) Shahrak-e-Qaisar (UC 05) Majeed Bagh (UC 11) Qazi Bagh (UC 12) Ravi-Clifton (UC 13) Ladhay Shah (UC 14) Qila Lachman Singh (UC 15) Shahrak-e-Auqaf (UC 16) Farooqganj (UC 17) Hanif Bagh (UC 18) Siddiqpue Pura (UC 19) Shahrak-e-Larex (UC 20) Shahrak-e-Badar (UC 21) Data Nagar (UC 22) Shahrak-e-Saddiqua (UC 23) Bhama Jhugian (UC 25) Usmanganj (UC 29) Manzorabad (UC 30) Mochi Gate (UC 31) Azam Markaz (UC 33) Shah Alam Markaz (UC 34) Rang Mahal, Lahore (UC 35) Lohari Gate (UC 36) Bhati Gate (UC 37) Shahi Qila (UC 38) Sotar Mandi (UC 39)'"
                    }, 
                    "output_type": "execute_result"
                }
            ], 
            "source": "#List of towns\ndf.iloc[1,1]"
        }, 
        {
            "source": "#### 2) Coordinates of towns in Lahore (Source of data: geopy library in python)", 
            "cell_type": "markdown", 
            "metadata": {}
        }, 
        {
            "execution_count": 15, 
            "cell_type": "code", 
            "metadata": {}, 
            "outputs": [
                {
                    "output_type": "stream", 
                    "name": "stdout", 
                    "text": "Fetching package metadata .............\nSolving package specifications: .\n\nPackage plan for installation in environment /opt/conda/envs/DSX-Python35:\n\nThe following NEW packages will be INSTALLED:\n\n    geographiclib: 1.49-py_0   conda-forge\n    geopy:         1.16.0-py_0 conda-forge\n\ngeographiclib- 100% |################################| Time: 0:00:00 529.33 kB/s\ngeopy-1.16.0-p 100% |################################| Time: 0:00:00 815.81 kB/s\n"
                }
            ], 
            "source": "!conda install -c conda-forge geopy --yes"
        }, 
        {
            "execution_count": 18, 
            "cell_type": "code", 
            "metadata": {}, 
            "outputs": [
                {
                    "output_type": "stream", 
                    "name": "stderr", 
                    "text": "/opt/conda/envs/DSX-Python35/lib/python3.5/site-packages/geopy/geocoders/osm.py:138: UserWarning: Using Nominatim with the default \"geopy/1.16.0\" `user_agent` is strongly discouraged, as it violates Nominatim's ToS https://operations.osmfoundation.org/policies/nominatim/ and may possibly cause 403 and 429 HTTP errors. Please specify a custom `user_agent` with `Nominatim(user_agent=\"my-application\")` or by overriding the default `user_agent`: `geopy.geocoders.options.default_user_agent = \"my-application\"`. In geopy 2.0 this will become an exception.\n  UserWarning\n"
                }, 
                {
                    "output_type": "stream", 
                    "name": "stdout", 
                    "text": "The geograpical coordinate of Mochi Gate, Lahore are 31.5769498, 74.3215639.\n"
                }
            ], 
            "source": "from geopy.geocoders import Nominatim\naddress = 'Mochi Gate, Lahore'\n\ngeolocator = Nominatim()\nlocation = geolocator.geocode(address)\nlatitude = location.latitude\nlongitude = location.longitude\nprint('The geograpical coordinate of {} are {}, {}.'.format(address,latitude, longitude))"
        }, 
        {
            "source": "### 3)Nearby Venues and their Categories ( Source of data : Foursquare Library API)", 
            "cell_type": "markdown", 
            "metadata": {}
        }, 
        {
            "execution_count": 19, 
            "cell_type": "code", 
            "metadata": {}, 
            "outputs": [
                {
                    "output_type": "stream", 
                    "name": "stdout", 
                    "text": "Your credentails:\nCLIENT_ID: SNYON02DZSU3M1W2ETYHYVW31M5IWLFYV3J0VV0LOJU15B2M\nCLIENT_SECRET:45LXYSQ4XBNVLXJY3BO4IKPMTCLW1S04I12I54VTQXLTZFIB\n"
                }
            ], 
            "source": "# The code was removed by Watson Studio for sharing."
        }, 
        {
            "execution_count": 20, 
            "cell_type": "code", 
            "metadata": {}, 
            "outputs": [
                {
                    "execution_count": 20, 
                    "metadata": {}, 
                    "data": {
                        "text/plain": "'https://api.foursquare.com/v2/venues/explore?&client_id=SNYON02DZSU3M1W2ETYHYVW31M5IWLFYV3J0VV0LOJU15B2M&client_secret=45LXYSQ4XBNVLXJY3BO4IKPMTCLW1S04I12I54VTQXLTZFIB&v=20180602&ll=31.5769498,74.3215639&radius=500&limit=100'"
                    }, 
                    "output_type": "execute_result"
                }
            ], 
            "source": "neighborhood_latitude= latitude\nneighborhood_longitude = longitude\nradius = 500\nLIMIT = 100\nurl = 'https://api.foursquare.com/v2/venues/explore?&client_id={}&client_secret={}&v={}&ll={},{}&radius={}&limit={}'.format(\n    CLIENT_ID, \n    CLIENT_SECRET, \n    VERSION, \n    neighborhood_latitude, \n    neighborhood_longitude, \n    radius, \n    LIMIT)\n\nurl"
        }, 
        {
            "execution_count": 22, 
            "cell_type": "code", 
            "metadata": {}, 
            "outputs": [], 
            "source": "results = requests.get(url).json()\ndef get_category_type(row):\n    try:\n        categories_list = row['categories']\n    except:\n        categories_list = row['venue.categories']\n        \n    if len(categories_list) == 0:\n        return None\n    else:\n        return categories_list[0]['name']"
        }, 
        {
            "execution_count": 24, 
            "cell_type": "code", 
            "metadata": {}, 
            "outputs": [
                {
                    "execution_count": 24, 
                    "metadata": {}, 
                    "data": {
                        "text/html": "<div>\n<style scoped>\n    .dataframe tbody tr th:only-of-type {\n        vertical-align: middle;\n    }\n\n    .dataframe tbody tr th {\n        vertical-align: top;\n    }\n\n    .dataframe thead th {\n        text-align: right;\n    }\n</style>\n<table border=\"1\" class=\"dataframe\">\n  <thead>\n    <tr style=\"text-align: right;\">\n      <th></th>\n      <th>name</th>\n      <th>categories</th>\n      <th>lat</th>\n      <th>lng</th>\n    </tr>\n  </thead>\n  <tbody>\n    <tr>\n      <th>0</th>\n      <td>Gawalmandi</td>\n      <td>Neighborhood</td>\n      <td>31.572570</td>\n      <td>74.322060</td>\n    </tr>\n    <tr>\n      <th>1</th>\n      <td>Mochi Gate \u0645\u0648\u0686\u06cc \u062f\u0631\u0648\u0627\u0632\u06c1 (\u0645\u0648\u0686\u06cc \u062f\u0631\u0648\u0627\u0632\u06c1)</td>\n      <td>Historic Site</td>\n      <td>31.577183</td>\n      <td>74.321544</td>\n    </tr>\n    <tr>\n      <th>2</th>\n      <td>Karachi Pipe Store</td>\n      <td>Construction &amp; Landscaping</td>\n      <td>31.576735</td>\n      <td>74.323704</td>\n    </tr>\n    <tr>\n      <th>3</th>\n      <td>Saien Shahi Kabab</td>\n      <td>BBQ Joint</td>\n      <td>31.578882</td>\n      <td>74.324949</td>\n    </tr>\n    <tr>\n      <th>4</th>\n      <td>Sadiq Halwa Poori</td>\n      <td>Breakfast Spot</td>\n      <td>31.574209</td>\n      <td>74.324347</td>\n    </tr>\n  </tbody>\n</table>\n</div>", 
                        "text/plain": "                                   name                  categories  \\\n0                            Gawalmandi                Neighborhood   \n1  Mochi Gate \u0645\u0648\u0686\u06cc \u062f\u0631\u0648\u0627\u0632\u06c1 (\u0645\u0648\u0686\u06cc \u062f\u0631\u0648\u0627\u0632\u06c1)               Historic Site   \n2                    Karachi Pipe Store  Construction & Landscaping   \n3                     Saien Shahi Kabab                   BBQ Joint   \n4                     Sadiq Halwa Poori              Breakfast Spot   \n\n         lat        lng  \n0  31.572570  74.322060  \n1  31.577183  74.321544  \n2  31.576735  74.323704  \n3  31.578882  74.324949  \n4  31.574209  74.324347  "
                    }, 
                    "output_type": "execute_result"
                }
            ], 
            "source": "from pandas.io.json import json_normalize\nvenues = results['response']['groups'][0]['items']\n    \nnearby_venues = json_normalize(venues) # flatten JSON\n\n# filter columns\nfiltered_columns = ['venue.name', 'venue.categories', 'venue.location.lat', 'venue.location.lng']\nnearby_venues =nearby_venues.loc[:, filtered_columns]\n\n# filter the category for each row\nnearby_venues['venue.categories'] = nearby_venues.apply(get_category_type, axis=1)\n\n# clean columns\nnearby_venues.columns = [col.split(\".\")[-1] for col in nearby_venues.columns]\n\nnearby_venues.head()"
        }, 
        {
            "execution_count": null, 
            "cell_type": "code", 
            "metadata": {}, 
            "outputs": [], 
            "source": ""
        }
    ], 
    "metadata": {
        "kernelspec": {
            "display_name": "Python 3.5", 
            "name": "python3", 
            "language": "python"
        }, 
        "language_info": {
            "mimetype": "text/x-python", 
            "nbconvert_exporter": "python", 
            "version": "3.5.5", 
            "name": "python", 
            "file_extension": ".py", 
            "pygments_lexer": "ipython3", 
            "codemirror_mode": {
                "version": 3, 
                "name": "ipython"
            }
        }
    }, 
    "nbformat": 4
}